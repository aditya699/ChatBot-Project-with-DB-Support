{
 "cells": [
  {
   "cell_type": "code",
   "execution_count": 1,
   "metadata": {},
   "outputs": [
    {
     "name": "stdout",
     "output_type": "stream",
     "text": [
      "Starting task A\n",
      "Task A completed\n",
      "Starting task B\n",
      "Task B completed\n"
     ]
    }
   ],
   "source": [
    "import time\n",
    "\n",
    "def task(name, delay):\n",
    "    print(f\"Starting task {name}\")\n",
    "    time.sleep(delay)  # Simulates a blocking operation\n",
    "    print(f\"Task {name} completed\")\n",
    "\n",
    "# Execute tasks synchronously\n",
    "task(\"A\", 2)\n",
    "task(\"B\", 2)\n"
   ]
  },
  {
   "cell_type": "code",
   "execution_count": null,
   "metadata": {},
   "outputs": [],
   "source": []
  }
 ],
 "metadata": {
  "kernelspec": {
   "display_name": "venv",
   "language": "python",
   "name": "python3"
  },
  "language_info": {
   "codemirror_mode": {
    "name": "ipython",
    "version": 3
   },
   "file_extension": ".py",
   "mimetype": "text/x-python",
   "name": "python",
   "nbconvert_exporter": "python",
   "pygments_lexer": "ipython3",
   "version": "3.9.5"
  }
 },
 "nbformat": 4,
 "nbformat_minor": 2
}
